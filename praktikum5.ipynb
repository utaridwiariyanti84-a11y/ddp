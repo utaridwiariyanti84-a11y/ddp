{
  "nbformat": 4,
  "nbformat_minor": 0,
  "metadata": {
    "colab": {
      "provenance": [],
      "authorship_tag": "ABX9TyPB+WU2uAAT/3bKK2sUdt7p",
      "include_colab_link": true
    },
    "kernelspec": {
      "name": "python3",
      "display_name": "Python 3"
    },
    "language_info": {
      "name": "python"
    }
  },
  "cells": [
    {
      "cell_type": "markdown",
      "metadata": {
        "id": "view-in-github",
        "colab_type": "text"
      },
      "source": [
        "<a href=\"https://colab.research.google.com/github/utaridwiariyanti84-a11y/ddp/blob/main/praktikum5.ipynb\" target=\"_parent\"><img src=\"https://colab.research.google.com/assets/colab-badge.svg\" alt=\"Open In Colab\"/></a>"
      ]
    },
    {
      "cell_type": "code",
      "execution_count": null,
      "metadata": {
        "colab": {
          "base_uri": "https://localhost:8080/"
        },
        "id": "JDC1zrwX4VJ8",
        "outputId": "bcb46d27-b7a2-4592-d9e8-061243167b30"
      },
      "outputs": [
        {
          "output_type": "stream",
          "name": "stdout",
          "text": [
            "['Beat Ember', 'motor', 200, 'hitam', 2]\n",
            "['Beat Ember', 'motor', 200, 'hitam', 2, 5000, 'metic']\n",
            "['Beat Ember', 'motor', 'Honda', 200, 'hitam', 2, 5000, 'metic']\n"
          ]
        }
      ],
      "source": [
        "namaKendaraan = \"Beat Ember\"\n",
        "jenisKendaraan = \"motor\"\n",
        "ccKendaraan = 200\n",
        "warnaKendaraan = \"hitam\"\n",
        "rodaKendaraan = 2\n",
        "\n",
        "data_kendaraan = [namaKendaraan, jenisKendaraan, ccKendaraan, warnaKendaraan, rodaKendaraan]\n",
        "print(data_kendaraan)\n",
        "\n",
        "hargaKendaraan = 5000\n",
        "tipeKendaraan = \"metic\"\n",
        "\n",
        "data_kendaraan.append(hargaKendaraan)\n",
        "data_kendaraan.append(tipeKendaraan)\n",
        "print(data_kendaraan)\n",
        "\n",
        "merkKendaraan = \"Honda\"\n",
        "data_kendaraan.insert(2, merkKendaraan)\n",
        "print(data_kendaraan)"
      ]
    },
    {
      "cell_type": "code",
      "source": [
        "_pilihan = input(\"\"\"\n",
        "Silahkan pilih menu yang diinginkan\n",
        "===================================\n",
        "1. luas persegi\n",
        "2. luas lingkaran\n",
        "3. luas segitiga\n",
        "===================================\n",
        "kirimkan hanya angka saja,\n",
        "jawaban = \"\"\")\n",
        "\n",
        "print(type(pilihan))\n",
        "match pilihan:\n",
        "   case \"1\":\n",
        "     print(\"anda memilih luas persegi silahkan isi data dibawah\")\n",
        "     sisi = int(input(\"sisi = \"))\n",
        "     luas = sisi * sisi\n",
        "\n",
        "     print(f\"luas persegi dengan {sisi} adalah {luas}\")\n",
        "     # luas persegi\n",
        "   case \"2\":\n",
        "     # luas lingkaran\n",
        "     # phi * jarijari**2\n",
        "\n",
        "     print(\"anda memilih luas lingkaran silahkan isi data dibawah\")\n",
        "     jarijari = int(input(\"jarijari = \"))\n",
        "     luas = 3.14 * jarijari**2\n",
        "\n",
        "     print(f\"luas lingkaran dengan jarijari {jarijari} adalah {luas}\")\n",
        "   case \"3\":\n",
        "     # luas segitiga\n",
        "     # (alas * tinggi)/2\n",
        "     print(\"anda memilih luas segitiga silahkan isi data dibawah\")\n",
        "     alas = int(input(\"tinggi = \"))\n",
        "     luas = (alas * tinggi) /2\n",
        "\n",
        "     print(f\"luas segitiga dengan {alas} adalah {luas}\")\n",
        "   case _:\n",
        "     print(\"gatau ya\")"
      ],
      "metadata": {
        "colab": {
          "base_uri": "https://localhost:8080/"
        },
        "id": "guuWKQU89NHc",
        "outputId": "4cff44d2-31e5-4003-fbef-cc1299810fca"
      },
      "execution_count": null,
      "outputs": [
        {
          "output_type": "stream",
          "name": "stdout",
          "text": [
            "\n",
            "Silahkan pilih menu yang diinginkan\n",
            "===================================\n",
            "1. luas persegi\n",
            "2. luas lingkaran\n",
            "3. luas segitiga\n",
            "===================================\n",
            "kirimkan hanya angka saja,\n",
            "jawaban = 2\n",
            "<class 'str'>\n",
            "anda memilih luas persegi silahkan isi data dibawah\n",
            "sisi = 4\n",
            "luas persegi dengan 4 adalah 16\n"
          ]
        }
      ]
    }
  ]
}